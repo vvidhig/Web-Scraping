{
 "cells": [
  {
   "cell_type": "code",
   "execution_count": 10,
   "id": "2bc43f69-e34b-4d40-8531-3d2d02217b04",
   "metadata": {},
   "outputs": [],
   "source": [
    "import requests"
   ]
  },
  {
   "cell_type": "code",
   "execution_count": 11,
   "id": "cb543578-4548-4acb-b0e1-fa1888f3a635",
   "metadata": {},
   "outputs": [],
   "source": [
    "res = requests.get(\"https://quotes.toscrape.com\")"
   ]
  },
  {
   "cell_type": "code",
   "execution_count": 12,
   "id": "3016d891-1ea8-4d04-b776-1b0e46a86b11",
   "metadata": {},
   "outputs": [
    {
     "data": {
      "text/plain": [
       "<Response [200]>"
      ]
     },
     "execution_count": 12,
     "metadata": {},
     "output_type": "execute_result"
    }
   ],
   "source": [
    "res"
   ]
  },
  {
   "cell_type": "code",
   "execution_count": 13,
   "id": "3b825f21-5859-4a10-9d9f-533293a17274",
   "metadata": {},
   "outputs": [],
   "source": [
    "html = res.text"
   ]
  },
  {
   "cell_type": "markdown",
   "id": "6d08e2bd-b3c3-4a0c-88ea-b156aeda35ea",
   "metadata": {},
   "source": [
    "### Copying the webpage's content into a html file"
   ]
  },
  {
   "cell_type": "code",
   "execution_count": 15,
   "id": "9838a404-26b8-4f05-b1c2-81a9bdbd9753",
   "metadata": {},
   "outputs": [],
   "source": [
    "fd = open('main.html', 'w', encoding='utf-8')\n",
    "fd.write(html)\n",
    "fd.close()"
   ]
  }
 ],
 "metadata": {
  "kernelspec": {
   "display_name": "Python 3 (ipykernel)",
   "language": "python",
   "name": "python3"
  },
  "language_info": {
   "codemirror_mode": {
    "name": "ipython",
    "version": 3
   },
   "file_extension": ".py",
   "mimetype": "text/x-python",
   "name": "python",
   "nbconvert_exporter": "python",
   "pygments_lexer": "ipython3",
   "version": "3.11.4"
  }
 },
 "nbformat": 4,
 "nbformat_minor": 5
}
