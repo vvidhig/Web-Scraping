{
 "cells": [
  {
   "cell_type": "code",
   "execution_count": 2,
   "id": "d6cf89d4-4a8a-4350-b8ae-c3b1d2fbc11a",
   "metadata": {},
   "outputs": [],
   "source": [
    "import requests\n",
    "from bs4 import BeautifulSoup"
   ]
  },
  {
   "cell_type": "code",
   "execution_count": 4,
   "id": "f51aa26f-f145-4a8d-99f0-aafd4152c4fa",
   "metadata": {},
   "outputs": [],
   "source": [
    "res = requests.get('https://en.wikipedia.org/wiki/Ram_Mandir')\n",
    "soup = BeautifulSoup(res.text, 'html.parser')"
   ]
  },
  {
   "cell_type": "code",
   "execution_count": 5,
   "id": "8ffc3a22-b0e3-435f-b303-7b1649111c2c",
   "metadata": {},
   "outputs": [],
   "source": [
    "heading = soup.find('h1').text"
   ]
  },
  {
   "cell_type": "code",
   "execution_count": 7,
   "id": "dc4d1993-9e6c-48ac-b96b-18cf90f25acc",
   "metadata": {},
   "outputs": [
    {
     "name": "stdout",
     "output_type": "stream",
     "text": [
      "\n",
      "\n",
      "\n",
      "\n",
      "The Ram Mandir is a Hindu temple under construction in Ayodhya, Uttar Pradesh, India. It is located at the site of Ram Janmabhoomi, the hypothesized birthplace of Rama, a principal deity of Hinduism.[6][7]\n",
      "\n",
      "The site is the former location of the Babri Masjid which was built in 16th century CE. The idols of Rama and Sita were placed in the mosque in 1949, before it was attacked and demolished in 1992.[8][9][10] In 2019, the Supreme Court of India delivered the verdict to give the disputed land to Hindus for construction of a temple, while Muslims would be given land elsewhere to construct a mosque.[11] The court referenced a report from the Archaeological Survey of India (ASI) as evidence suggesting the presence of a structure beneath the demolished Babri Masjid, that was found to be non-Islamic.[12]\n",
      "\n",
      "On 5 August 2020, the Bhumi Pujan (transl. ground breaking ceremony) for the commencement of the construction of Ram Mandir was performed by Narendra Modi, Prime Minister of India.[13] The temple, currently under construction, is being supervised by the Shri Ram Janmabhoomi Teerth Kshetra Trust. On 22 January 2024, Modi served as the Mukhya Yajman (transl. chief patron) of rituals for the event and performed the Prana Pratishtha (transl. consecration) of Ram Lalla.[14][15] The Prana Pratishtha ceremony was organised by the Shri Ram Janmabhoomi Teerth Kshetra.[16][17]\n",
      "\n",
      "The temple has attracted a number of controversies due to alleged misuse of donation, sidelining of its major activists and politicisation of the temple by the Bharatiya Janata Party.[18][19][20][21]\n",
      "\n",
      "The site is the former location of the Babri Masjid, which was built in the 16th century. The idols of Rama and Sita were placed in the mosque in 1949, before it was attacked and demolished in 1992.[8][9][22] In 2019, the Supreme Court of India delivered the verdict to give the disputed land to Hindus for the construction of a temple, while Muslims would be given land elsewhere to construct a mosque.[23] The court referenced a report from the Archaeological Survey of India (ASI) as evidence suggesting the presence of a structure beneath the demolished Babri Masjid, that was found to be non-Islamic.[24] However, the ASI claims were heavily disputed by critics as contradictory and unreliable.[25][26][27][28][29] But, these became futile as the Supreme Court, after detailed proceedings, accepted the ASI report as valid. The Supreme Court in its landmark jugdement concluded that the underlying structure beneath the mosque was not an Islamic structure, and also that there is clear evidence that the disputed site was believed by Hindus as the Janmabhoomi (birthsite) of Rama.[30]\n",
      "\n",
      "Rama, an incarnation of Vishnu, is a Hindu deity. According to the ancient Indian epic, Ramayana, Rama was born in Ayodhya.[31]\n",
      "\n",
      "It is believed the temple was attacked and destroyed by the first Mughal emperor, Babur, in 1528, in his series of temple raids across northern India.[32] Later, in the same year, under the order of Babur, the commander of the Mughal Empire, Mir Baqi, constructed a mosque, the Babri Masjid, in the site of the Ram Janmabhoomi, the birthplace of Rama.[33] The earliest record of the mosque may be traced back to 1767, in the Latin book Descriptio Indiae, authored by the Jesuit missionary Joseph Tiefenthaler. According to him, the mosque was constructed by destroying the Ramkot temple, believed to be the fortress of Rama in Ayodhya, and the Bedi, where the birthplace of Rama is situated.[34][35]\n",
      "\n",
      "The first instance of religious violence was documented in 1853.[36] In December 1858, the British administration prohibited Hindus from conducting puja (rituals) at the contested site. A platform was created for conducting rituals outside the mosque.[37]\n",
      "\n",
      "The murtis (transl. sacred images) of Rama and Sita were installed inside the Babri Masjid on the night of 22–23 December 1949 and the devotees began to gather from the next day.[8][38] By 1950, the state took control of the mosque under section 145 CrPC and allowed Hindus, not Muslims, to perform their worship at the site.[39]\n",
      "\n",
      "In the 1980s, the Vishwa Hindu Parishad (VHP), belonging to the Hindu nationalist family, Sangh Parivar, launched a new movement to reclaim the site for Hindus and to erect a temple dedicated to the infant Rama (Ram Lalla) at this spot. The VHP began to collect funds and bricks with \"Jai Shri Ram\" written on them. Later, the government under Prime Minister Rajiv Gandhi gave the VHP permission for Shilanyas (transl. the foundation stone ceremony) to proceed, with the then Home Minister, Buta Singh, formally conveying the permission to the VHP leader, Ashok Singhal. Initially, the Government of India and Government of Uttar Pradesh had agreed that the shilanyas would be conducted outside of the disputed site. However, on 9 November 1989, a group of VHP leaders and Sadhus laid the foundation stone by digging a 200-litre (7-cubic-foot) pit adjacent to the disputed land. The singhdwar (transl. main entrance) of the sanctum sanctorum was constructed there.[40] The VHP then laid the foundations of a temple on the land adjacent to the disputed mosque. On 6 December 1992, the VHP and the Bharatiya Janata Party organised a rally at the site involving 150,000 volunteers, known as karsevaks. The rally turned violent, the crowd overwhelmed the security forces and tore down the mosque.[41][42]\n",
      "\n",
      "The demolition of the mosque resulted in several months of inter-communal violence between India's Hindu and Muslim communities, causing the death of an estimated 2,000 people in Bombay (now Mumbai) as a direct consequence, and triggering riots all over the Indian subcontinent.[43] A day after the demolition of the mosque, on 7 December 1992, The New York Times reported that over 30 Hindu temples across Pakistan were attacked, some set on fire, and one was demolished. Hindu temples in Bangladesh were also attacked.[41]\n",
      "\n",
      "On 5 July 2005, five terrorists attacked the makeshift Ram temple at the site of the destroyed Babri Masjid in Ayodhya. All five were shot dead in the ensuing encounter with the Central Reserve Police Force (CRPF), while one civilian died in the grenade attack that the attackers launched to breach the cordoned wall. The CRPF suffered three casualties, two of whom were seriously injured with multiple gunshot wounds.[44][45]\n",
      "\n",
      "Two archaeological excavations in 1978 and 2003 conducted by the Archaeological Survey of India (ASI) found evidence indicating that the Hindu temple's remains existed on the site.[46][47] Archaeologist K. K. Muhammed accused several left-leaning historians of undermining the findings.[48] Over the years, various title and legal disputes took place, such as the passage of the Acquisition of Certain Area at Ayodhya Act in 1993. In 2010, the Allahabad High Court ruled that the 2.77 acres (1.12 ha) of disputed land be divided into 3 parts, with 1⁄3 going to the Ram Lalla or Infant Lord Rama represented by the Hindu Mahasabha for the construction of the Ram temple, 1⁄3 going to the Muslim Sunni Waqf Board and the remaining 1⁄3 going to a Hindu religious denomination Nirmohi Akhara.[6][49] All the three parties involved appealed against the division of disputed land to the Supreme Court.[50][51]\n",
      "\n",
      "In Supreme Court's verdict on the Ayodhya dispute in 2019, it was decided that the disputed land would be handed over to a trust formed by the Government of India for the construction of a Ram temple. The trust was eventually formed under the name of the Shri Ram Janmabhoomi Teerth Kshetra. On 5 February 2020, it was announced in the Parliament of India that the government under Prime Minister Narendra Modi had accepted a plan to construct the temple. Two days later, on 7 February, 2.0 hectares (5 acres) of land were allocated for a new mosque to be built 22 km (14 mi) away from Ayodhya in Dhannipur village.[52][53]\n",
      "\n",
      "The original design for Ram Mandir was devised in 1988 by the Sompura family of Ahmedabad.[2] The Sompuras have contributed to the design of over 100 temples worldwide for at least 15 generations, including the Somnath temple.[54] The chief architect of the temple was Chandrakant Sompura, assisted by his two sons, Nikhil Sompura and Ashish Sompura, who are also architects.[55]\n",
      "\n",
      "A new design, with some changes from the original, was prepared by the Sompuras in 2020,[55] per the Hindu texts, the Vastu shastra and the Shilpa shastras.[56] The temple will be 76 metres (250 ft) wide, 120 metres (380 ft) long and 49 metres (161 ft) high.[57] Upon completion, the temple complex became the world's third largest Hindu temple.[55] It is designed in the Māru-Gurjara architecture of Nagara style, a type of Hindu temple architecture found primarily in northern India.[54] A model of the proposed temple was showcased during the Prayag Kumbh Mela in 2019.[58]\n",
      "\n",
      "The temple's main structure has been built on a raised platform with three storeys. It has five mandapas in the middle of the garbhagriha (sanctum sanctorum) and on the entrance passage. Three mandapas on one side are of Kudu, Nritya and Rang, and the two mandapas on the other side are of Kirtan and Prarthana. In Nagara style, the mandapas are decorated with shikharas.[59][60]\n",
      "\n",
      "The temple has a total of 366 columns. The columns have 16 idols each to include the incarnations of Shiva, the 10 Dashavataras, the Chausath Yoginis, and the 12 incarnations of the goddess Saraswati. The width of the stairs are 4.9 metres (16 ft). Per scriptures dedicated to the design of temples dedicated to Vishnu, the sanctum sanctorum is octagonal in shape.[56] The temple covers an area of 4.0 hectares (10 acres), while the remaining 23 hectares (57 acres) of land has been developed into a complex with a prayer hall, a lecture hall, an educational facility and other facilities including a museum and a cafeteria.[40] According to the temple committee, the site has a capability to handle 70,000 visitors.[61] Larsen & Toubro offered to oversee the design and construction of the temple free of cost, and became the contractor of the project.[62][63] The Central Building Research Institute, National Geophysical Research Institute and the Bombay, Guwahati and Madras IITs have assisted in areas such as soil testing, concrete supply and design.[64][65]\n",
      "\n",
      "The construction work has been accomplished with 17,000 m3 (600,000 cu ft) of sandstone from Baansi in Rajasthan.[56] No iron and steel has been used in the construction of the temple, and the fusing of the stone blocks has required ten thousand copper plates.[66] In a culturally significant move, Thailand also symbolically contributed to the inauguration of the Ram Mandir, by sending soil to the Ram Janmabhoomi, building on their prior gesture of sending water from two rivers in Thailand to honour the temple.[67]\n",
      "\n",
      "Ram Lalla Virajman, the infant form of Rama, an avatar of Vishnu, is the presiding deity of the temple.[68] Ram Lalla's dress was stitched by tailors Bhagwat Prasad and Shankar Lal, a fourth generation tailor to Rama's idol.[69] Ram Lalla was a litigant in the court case over the disputed site in 1989, being considered a \"juristic person\" by the law.[2] He was represented by Triloki Nath Pandey, a senior VHP leader who was considered Ram Lalla's closest 'human' friend.[68] According to the temple trust, the final blueprint included temples dedicated to Surya, Ganesha, Shiva, Durga, Vishnu and Brahma in the temple grounds.[70] Two idols of Ram Lalla (one of them being 5 years old) is consecrated in the sanctum of the temple.[61]\n",
      "\n",
      "On 29 December 2023, the selection of the idol of Ram Lalla for the Ram Mandir was done through a voting process. A sculptor, known for various statues across India created by him, Arun Yogiraj, from Mysore, Karnataka, created the idol of Rama.[71][72][73]\n",
      "\n",
      "The Shri Ram Janmabhoomi Teerth Kshetra trust began the first phase of construction of the Ram Mandir in March 2020.[74][75] The COVID-19 pandemic lockdown in India caused a temporary suspension of the construction.[76][77] On 25 March 2020, Ram's idol was moved to a temporary location in the presence of the Chief Minister of Uttar Pradesh, Yogi Adityanath.[78] In preparation for the temple's construction, the Vishwa Hindu Parishad (VHP) organised a 'Vijay Mahamantra Jaap Anushthan', in which individuals would gather at different places to chant the 'Vijay Mahamantra' – Shri Ram, Jai Ram, Jai Jai Ram, on 6 April 2020. This was said to ensure \"victory over hurdles\" in constructing the temple.[79]\n",
      "\n",
      "It was officially announced by Champat Rai, the General Secretary of the Sri Ram Janmbhoomi Kshetra Trust, that 22 January 2024 would be the scheduled date for the installation of the Ram Lalla idol in the garbhagriha (sanctum sanctorum). On 25 October 2023, a formal invitation was extended to Prime Minister Narendra Modi to attend the ceremony.[80]\n",
      "\n",
      "The temple construction officially started again after a Bhumi-Pujan (transl. ground breaking ceremony) on 5 August 2020. The three-day long Vedic ritual was held ahead of the groundbreaking ceremony, which revolved around the installation of a 40 kg (88 pounds) silver brick as the foundation stone by Prime Minister Narendra Modi.[2] On the day before on 4 August, the Ramarchan Puja (transl. Puja of Rama's feet) was performed, in order to ritually invite all the major deities into the temple.[81]\n",
      "\n",
      "On the occasion of the Bhoomi Poojan, soil and holy water were collected from several religious places across India, such as the Triveni Sangam of the rivers Ganga, Yamuna, and Saraswati at Prayagraj, as well as the Kaveri river from its orgin at Talakaveri in Karnataka and the Kamakhya Temple in Assam.[82][83][84] Soil was also sent from various Hindu temples, gurudwaras and Jain temples across the nation, as well as from the four pilgrimage locations of Char Dham, to bless the temple.[85][86][87]\n",
      "\n",
      "On 5 August, Prime Minister Narendra Modi offered prayers at the Hanuman Garhi Temple in Ayodhya to seek blessings of Hanuman for the day's events.[88][89] The groundbreaking ceremony of Ram Mandir took place following this.[88] The Chief Minister of Uttar Pradesh, Yogi Adityanath, Chief of Rashtriya Swayamsevak Sangh (RSS), Mohan Bhagwat, Chief of the Ram Janmabhoomi Nyas and Chief of the Shri Ram Janmabhoomi Teerth Kshetra, Nritya Gopal Das and Narendra Modi gave speeches.[88][90][91]\n",
      "\n",
      "The temple trust decided to launch a nationwide \"mass contact and contribution campaign\" aimed at reaching 55–600 million people.[65] Voluntary donations of ₹1 (1.3¢ US) and higher were accepted.[92] On 1 January 2021, former President Ram Nath Kovind made the first contribution towards the construction of the Ram Mandir by donating more than ₹5 lakh (US$6,300).[93] Several leaders and notable personalities across the nation followed this. By April 2021, around ₹5,000 crore (US$630 million) was collected from donations across India.[94][95] Nearly 150,000 VHP activists participated in collecting donations. The temple trust also received donations from the members of the Muslim and Christian communities.[96]\n",
      "\n",
      "In August 2021, a viewing location was created for the public to observe the construction works in the temple site.[97] Following the groundbreaking ceremony, up to 12 metres (40 ft) of debris were removed and the remaining earth compacted.[98] The foundation was made using roller-compacted concrete.[99] A total of 47–48 layers, each layer 0.30-metre (1 ft) high, were completed by mid-September 2021.[98][100] Due to electricity supply issues in Mirzapur, the cutting of the sandstone was slowed down.[70] In the beginning of 2022, a video was released by the temple trust, showing the planned construction of the temple in 3D along with other related information.[101][102][5]\n",
      "\n",
      "In January 2023, two 60 million-year-old Shaligram rocks, 26 tonnes and 14 tonnes respectively, were sent from the Gandaki river in Nepal. These rocks were used to carve the idol of Ram Lalla in the sanctum sanctorum.[103] In August 2023, according to the Shri Ram Janmabhoomi Teerth Kshetra Trust, 70% of the groundwork was completed and 40% of the roof work was completed.[104] In December 2023, the entire base, along with the six smaller temples that surround the main temple, which consists the sanctum sanctorum, were almost completed.[105] The temple and its premises were completed, and the inauguration, along with the Prana Pratishtha ceremony of Ram Lalla, was done by Prime Minister Narendra Modi, Chief Minister Yogi Adityanath, Chief of the RSS, Mohan Bhagwat and Chief of the Shri Ram Janmabhoomi Teerth Kshetra, Nritya Gopal Das, on 22 January 2024.[106]\n",
      "\n",
      "In preparation for the Prana Pratishtha (consecration) ceremony, the Government of Uttar Pradesh earmarked ₹100 crore (US$13 million) for 'Ramotsav,' a series of religious events that spanned 826 local bodies across Uttar Pradesh along with the Ram Paduka Yatra. The events commenced from December 2023, culminated in the grand celebrations from Makar Sankranti on 16 January 2024, and lasted until the inauguration of the Ram Mandir on 22 January. The yatra followed the Ram Van Gaman Path, retracing Rama's 14-year exile from Ayodhya.[107] Prime Minister Narendra Modi along with RSS Sarsanghchalak, Mohan Bhagwat, Congress leaders and leaders from other opposition political parties were invited for attending the consecration ceremony.[108][109] The guest list also included prominent industrialists, scientists, actors, army officers, spiritual leaders and Padma awardees.[110][111]\n",
      "\n",
      "The temple has attracted a number of controversies due to alleged misuse of donation, sidelining of its major activists and politicisation of the temple by the Bharatiya Janata Party (BJP).[18][19][20][21]\n",
      "\n",
      "In 2015, the Hindu Mahasabha, among the leading organisation involved in the Ram Mandir issue, alleged the BJP-affiliate Vishwa Hindu Parishad (VHP) of carrying out donation scam of over ₹1,400 crore (US$180 million) over the construction of the temple. The VHP denied this allegation.[19]\n",
      "\n",
      "In 2019, the national spokesperson of the Nirmohi Akhara, Mahant Sitaram Das, accused the VHP of carrying out a ₹1,400 crore (US$180 million) scam over the temple.[18] The former Chief Ministers of Karnataka, H. D. Kumaraswamy and Siddaramaiah, now the current Chief Minister of the state, strongly questioned the methods of fund collection.[112][113] After failing to raise the desired amount, the headmistress of a Rashtriya Swayamsevak Sangh school experienced bullying, and was subsequently suspended.[114][115]\n",
      "\n",
      "In 2017, the Hindu Mahasabha criticised the BJP, Bajrang Dal and other Sangh Parivar organisations for hijacking the Ram Mandir despite having no involvement in its long battle.[116] The national vice-president of the Hindu Mahasabha, Pandit Ashok Sharma, added that his organisation pursued the fight, but it was \"later hijacked by BJP and its other saffron affiliates.\"[20]\n",
      "\n",
      "In 2020, Pramod Joshi, the national spokesperson of the Hindu Mahasabha, said that the real credit of Ram Mandir belongs to Hindu Mahasabha, but the \"Hindu Mahasabha has been kept away from the bhoomi pujan or groundbreaking ceremony of the Ram Mandir, and in reality, we should have performed the bhoomi pujan of the temple.\" He added that the committee for the temple was formed at the BJP's central office and the Hindu Mahasabha was sidelined.[117]\n",
      "\n",
      "A number of Hindutva proponents, including online social media influencers, raised objections over the temple's construction with regards to its design and involvement of the Muslims. They found Islamic motifs in the Ram Mandir. Champat Rai, the general secretary of the Shri Ram Janmabhoomi Teerth Kshetra trust, responded to these concerns by saying that temple was being sculpted by experts, and there could be no question about their religion.[118]\n",
      "\n",
      "In 2020, the national spokesperson of the Nirmohi Akhara, Mahant Sitaram Das, criticised the BJP's decision to lay the foundation of the temple by Narendra Modi and said that the work of the temple should be done only by the religious priests.[21] The vice-president of the Hindu Mahasabha, Pandit Ashok Sharma, said that the BJP \"got the entire thing politicised.\"[20]\n",
      "\n",
      "A number of opposition parties, as well as BJP members themselves, have criticised the BJP for politicising the temple and using it for gaining political mileage.[119] The President of the Congress, Mallikarjun Kharge, had questioned the authority of Home Minister Amit Shah, after he declared the opening date of the temple.[120] The BJP leader Subramanian Swamy questioned Prime Minister Narendra Modi's involvement in Ram Mandir's inauguration.[121] The Congress MP Shashi Tharoor has criticised the Indian media for diverting attention from critical governance issues by overly focusing on the temple.[122]\n",
      "\n",
      "Some priests and religious leaders, such as Swaroopanand Saraswati, complained that 5 August was not a ritually auspicious date. They also complained that the ceremony did not follow proper ritual procedures. They also claimed that the function did not include a havan.[123][124] In this regard, the writer and activist Arundhati Roy, a noted critic of PM Modi, pointed out that the chosen date marked one year since the revocation of the special status of Jammu and Kashmir.[125][43] Pakistan made an official statement through its foreign office criticising India for commencing construction of the temple, due to the history of the site.[126] On the contrary, various Indian political leaders praised the groundbreaking ceremony.[127]\n",
      "\n",
      "The four Shankaracharyas, the highest gurus of Advaita Vedanta, did not take part of the ceremony to inaugurate the Ram Mandir.[128][129][130]\n",
      "\n",
      "During the 2021 Republic Day parade on Rajpath, Uttar Pradesh's tableau showcased a replica of the Ram Mandir.[133]\n",
      "In October 2023, Durga Puja celebrations in Santosh Mitra Square, Kolkata exhibited a replica of Ram Mandir, along with other notable buildings around the world.[134][135]\n",
      "\n",
      "Mandir wahi banayenge (transl. The temple will be built exactly there) is an expression in Hindi, and has become one of the most popular slogans concerning the Ram Janmabhoomi movement and Ram Mandir. It has been used as early as 1985–86, was popularised in the 1990s, and has several variations.[136][137]\n",
      "\n",
      "It has been a symbol of hope and it has become a part of festivities, and has also become a part of stand-up comedy, jokes and memes.[138][verification needed] In 2019, the slogan was used in the Parliament of India,[138] and it has also been used by media houses.[139][140] The slogan has been used as a threat as well as a vow.[141]\n",
      "\n",
      "There are variations of the slogan such as one used by Lal Krishna Advani: \"Saugandh Ram ki Khat-e hain; Hum Mandir Wahin Banayegein\" (transl. We take a vow of Rama that we will build the temple exactly there).[136] Other variations and adaptations include \"Wahin Banega Mandir\" (transl. A temple will be built there),[139] \"Jaha Ram Ka Janma Hua Tha, Hum Mandir Wahi Banayenge\" (transl. The temple will be built where Ram was born),[137] \"Ram Lalla Hum Aayenge; Mandir Wahi Banayenge\" (transl. Ram Lalla, we will come, the temple will be built there, or Ram Lalla we will come to construct a Mandir exactly there)[137] and \"Pehle mandir, fir sarkaar\" (transl. First the temple, then the government).[142]\n",
      "\n",
      "\n"
     ]
    }
   ],
   "source": [
    "s = ''\n",
    "for i in soup.find_all('p'):\n",
    "    s = s+i.text\n",
    "    s = s+'\\n'\n",
    "s.strip()\n",
    "print(s)"
   ]
  },
  {
   "cell_type": "code",
   "execution_count": 9,
   "id": "c29e813c-98c1-42a7-8d0c-c8e714ae9dda",
   "metadata": {},
   "outputs": [],
   "source": [
    "fh = open('RamMandir.txt', 'w', encoding='utf-8')\n",
    "fh.write(heading)\n",
    "fh.write(s)\n",
    "fh.close()"
   ]
  },
  {
   "cell_type": "code",
   "execution_count": null,
   "id": "e95872e2-9f76-478d-8990-2f570f11900e",
   "metadata": {},
   "outputs": [],
   "source": []
  }
 ],
 "metadata": {
  "kernelspec": {
   "display_name": "Python 3 (ipykernel)",
   "language": "python",
   "name": "python3"
  },
  "language_info": {
   "codemirror_mode": {
    "name": "ipython",
    "version": 3
   },
   "file_extension": ".py",
   "mimetype": "text/x-python",
   "name": "python",
   "nbconvert_exporter": "python",
   "pygments_lexer": "ipython3",
   "version": "3.11.4"
  }
 },
 "nbformat": 4,
 "nbformat_minor": 5
}
