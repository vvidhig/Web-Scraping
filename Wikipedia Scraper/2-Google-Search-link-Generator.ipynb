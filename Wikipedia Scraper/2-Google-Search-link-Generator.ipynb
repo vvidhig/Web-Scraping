{
 "cells": [
  {
   "cell_type": "code",
   "execution_count": 3,
   "id": "8d72b6cb-8e6d-4538-bb2c-c7ed211516e0",
   "metadata": {},
   "outputs": [],
   "source": [
    "import requests\n",
    "from bs4 import BeautifulSoup"
   ]
  },
  {
   "cell_type": "code",
   "execution_count": 4,
   "id": "a00a7dc4-eac0-48c3-a5e5-d0ab6ac1ab1f",
   "metadata": {},
   "outputs": [
    {
     "name": "stdin",
     "output_type": "stream",
     "text": [
      "Enter what is to be searched Narendra Modi\n"
     ]
    },
    {
     "name": "stdout",
     "output_type": "stream",
     "text": [
      "https://www.google.com/search?q=Narendra+Modi+wikipedia\n"
     ]
    }
   ],
   "source": [
    "st = str(input(\"Enter what is to be searched\")).replace(' ', '+')\n",
    "link = \"https://www.google.com/search?q=\" + st + \"+wikipedia\"\n",
    "print(link)"
   ]
  }
 ],
 "metadata": {
  "kernelspec": {
   "display_name": "Python 3 (ipykernel)",
   "language": "python",
   "name": "python3"
  },
  "language_info": {
   "codemirror_mode": {
    "name": "ipython",
    "version": 3
   },
   "file_extension": ".py",
   "mimetype": "text/x-python",
   "name": "python",
   "nbconvert_exporter": "python",
   "pygments_lexer": "ipython3",
   "version": "3.11.4"
  }
 },
 "nbformat": 4,
 "nbformat_minor": 5
}
